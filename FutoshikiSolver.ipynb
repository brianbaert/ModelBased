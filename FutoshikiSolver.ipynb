{
 "cells": [
  {
   "cell_type": "code",
   "execution_count": 32,
   "id": "8bd6ebe0-84bd-4392-84a0-55a2a56e11ff",
   "metadata": {},
   "outputs": [
    {
     "name": "stdout",
     "output_type": "stream",
     "text": [
      "Overwriting FutoshikiSolver.lp\n"
     ]
    }
   ],
   "source": [
    "%%file FutoshikiSolver.lp\n",
    "#const dimension = 4.\n",
    "\n",
    "%filled(X,Y,V) is a pre-filled cell (hint) with X the row, Y the column and V the value.\n",
    "filled(1, 2, 3).\n",
    "filled(1, 3, 2).\n",
    "filled(2, 1, 2).\n",
    "filled(2, 2, 4).\n",
    "\n",
    "% The inequality constraints can all be written by using '<' (less than).\n",
    "% The lessThan(X1,Y1,X2,Y2) constraint checks if the value at (X1,Y1) < (X2,Y2).\n",
    "lessThan(2,4, 2,3).\n",
    "lessThan(3,2, 4,2).\n",
    "\n",
    "% The possible numbers are between 1 and the dimension of the puzzle.\n",
    "number(1..dimension).\n",
    "\n",
    "% The cells that are pre-filled (given hints) are inserted in the solution\n",
    "% c(X,Y,V) stands for the cell at location (X,Y) with value V.\n",
    "c(X,Y,V) :- filled(X,Y,V).\n",
    "\n",
    "% Latin square condition: all rows and columns must be different.\n",
    "{ c(X,Y,N):number(N) } = 1 :- number(X),number(Y).\n",
    "{ c(X,Y,N):number(X) } = 1 :- number(N),number(Y).\n",
    "{ c(X,Y,N):number(Y) } = 1 :- number(N),number(X). \n",
    "\n",
    "% Inequality condition: all '<' constraints must hold.\n",
    ":- c(X1,Y1,N1), c(X2,Y2,N2), lessThan(X1,Y1, X2,Y2), N1 >= N2.\n",
    "\n",
    "#show c/3."
   ]
  },
  {
   "cell_type": "code",
   "execution_count": 34,
   "id": "a4262cca-9ea1-40d8-9950-9046a72f1d95",
   "metadata": {},
   "outputs": [
    {
     "name": "stdout",
     "output_type": "stream",
     "text": [
      "clingo version 5.6.2\n",
      "Reading from FutoshikiSolver.lp\n",
      "Solving...\n",
      "Answer: 1\n",
      "c(1,2,3) c(1,3,2) c(2,1,2) c(2,2,4) c(2,4,1) c(2,3,3) c(3,2,1) c(4,2,2) c(1,1,1) c(3,1,3) c(4,1,4) c(3,3,4) c(4,3,1) c(1,4,4) c(3,4,2) c(4,4,3)\n",
      "SATISFIABLE\n",
      "\n",
      "Models       : 1\n",
      "Calls        : 1\n",
      "Time         : 0.000s (Solving: 0.00s 1st Model: 0.00s Unsat: 0.00s)\n",
      "CPU Time     : 0.000s\n"
     ]
    }
   ],
   "source": [
    "!clingo 0 FutoshikiSolver.lp"
   ]
  },
  {
   "cell_type": "code",
   "execution_count": null,
   "id": "db7154d4-5c92-47a7-a4d5-f3674be96f61",
   "metadata": {},
   "outputs": [],
   "source": []
  },
  {
   "cell_type": "code",
   "execution_count": 42,
   "id": "5d499673-7877-4f9e-a0ef-99b739ed6885",
   "metadata": {},
   "outputs": [
    {
     "name": "stdout",
     "output_type": "stream",
     "text": [
      "Overwriting FutoshikiSolver.lp\n"
     ]
    }
   ],
   "source": [
    "%%file FutoshikiSolver.lp\n",
    "#const dimension = 5.\n",
    "\n",
    "%filled(X,Y,V) is a pre-filled cell (hint) with X the row, Y the column and V the value.\n",
    "filled(2, 1, 4).\n",
    "filled(2, 5, 2).\n",
    "filled(3, 3, 4).\n",
    "filled(4, 5, 4).\n",
    "filled(5, 1, 2).\n",
    "\n",
    "% The inequality constraints can all be written by using '<' (less than).\n",
    "% The lessThan(X1,Y1,X2,Y2) constraint checks if the value at (X1,Y1) < (X2,Y2).\n",
    "lessThan(1,5, 1,4).lessThan(1,4, 1,3).lessThan(1,2, 1,1).\n",
    "lessThan(4,4, 4,5).\n",
    "lessThan(5,1, 5,2).\n",
    "lessThan(5,2, 5,3).\n",
    "\n",
    "% The possible numbers are between 1 and the dimension of the puzzle.\n",
    "number(1..dimension).\n",
    "\n",
    "% The cells that are pre-filled (given hints) are inserted in the solution\n",
    "% c(X,Y,V) stands for the cell at location (X,Y) with value V.\n",
    "c(X,Y,V) :- filled(X,Y,V).\n",
    "\n",
    "% Latin square condition: all rows and columns must be different.\n",
    "{ c(X,Y,N):number(N) } = 1 :- number(X),number(Y).\n",
    "{ c(X,Y,N):number(X) } = 1 :- number(N),number(Y).\n",
    "{ c(X,Y,N):number(Y) } = 1 :- number(N),number(X). \n",
    "\n",
    "% Inequality condition: all '<' constraints must hold.\n",
    ":- c(X1,Y1,N1), c(X2,Y2,N2), lessThan(X1,Y1, X2,Y2), N1 >= N2.\n",
    "\n",
    "#show c/3."
   ]
  },
  {
   "cell_type": "code",
   "execution_count": 43,
   "id": "0a8f72af-e9d7-4e32-9c3d-4c4b0156af76",
   "metadata": {},
   "outputs": [
    {
     "name": "stdout",
     "output_type": "stream",
     "text": [
      "clingo version 5.6.2\n",
      "Reading from FutoshikiSolver.lp\n",
      "Solving...\n",
      "UNSATISFIABLE\n",
      "\n",
      "Models       : 0\n",
      "Calls        : 1\n",
      "Time         : 0.000s (Solving: 0.00s 1st Model: 0.00s Unsat: 0.00s)\n",
      "CPU Time     : 0.000s\n"
     ]
    }
   ],
   "source": [
    "!clingo 0 FutoshikiSolver.lp"
   ]
  },
  {
   "cell_type": "code",
   "execution_count": null,
   "id": "3e9aba4a-5ac5-4edd-b3d3-06bb96c12af9",
   "metadata": {},
   "outputs": [],
   "source": []
  },
  {
   "cell_type": "code",
   "execution_count": 48,
   "id": "3cd4cf48-67b0-486d-827d-45c78a0cab97",
   "metadata": {},
   "outputs": [
    {
     "name": "stdout",
     "output_type": "stream",
     "text": [
      "Overwriting FutoshikiSolver_extreme_5.lp\n"
     ]
    }
   ],
   "source": [
    "%%file FutoshikiSolver_extreme_5.lp\n",
    "#const dimension = 5.\n",
    "\n",
    "%filled(X,Y,V) is a pre-filled cell (hint) with X the row, Y the column and V the value.\n",
    "filled(5, 1, 5).\n",
    "\n",
    "% The inequality constraints can all be written by using '<' (less than).\n",
    "% The lessThan(X1,Y1,X2,Y2) constraint checks if the value at (X1,Y1) < (X2,Y2).\n",
    "lessThan(2,1, 1,1).lessThan(2,4, 1,4).\n",
    "lessThan(2,3, 2,2).lessThan(3,2, 2,2).lessThan(3,3, 2,3).lessThan(3,5, 2,5).\n",
    "lessThan(4,1, 3,1).lessThan(4,5, 3,5).\n",
    "lessThan(5,2, 4,2).lessThan(4,2, 4,3).lessThan(4,5, 4,4).\n",
    "lessThan(5,3, 5,2).lessThan(5,5, 5,4).\n",
    "\n",
    "% The possible numbers are between 1 and the dimension of the puzzle.\n",
    "number(1..dimension).\n",
    "\n",
    "% The cells that are pre-filled (given hints) are inserted in the solution\n",
    "% c(X,Y,V) stands for the cell at location (X,Y) with value V.\n",
    "c(X,Y,V) :- filled(X,Y,V).\n",
    "\n",
    "% Latin square condition: all rows and columns must be different.\n",
    "{ c(X,Y,N):number(N) } = 1 :- number(X),number(Y).\n",
    "{ c(X,Y,N):number(X) } = 1 :- number(N),number(Y).\n",
    "{ c(X,Y,N):number(Y) } = 1 :- number(N),number(X). \n",
    "\n",
    "% Inequality condition: all '<' constraints must hold.\n",
    ":- c(X1,Y1,N1), c(X2,Y2,N2), lessThan(X1,Y1, X2,Y2), N1 >= N2.\n",
    "\n",
    "#show c/3."
   ]
  },
  {
   "cell_type": "code",
   "execution_count": 51,
   "id": "ed7d5666-319b-4207-8103-c78dfc1fbf7b",
   "metadata": {},
   "outputs": [
    {
     "name": "stdout",
     "output_type": "stream",
     "text": [
      "clingo version 5.6.2\n",
      "Reading from FutoshikiSolver_extreme_5.lp\n",
      "Solving...\n",
      "Answer: 1\n",
      "c(5,1,5) c(2,1,2) c(1,1,3) c(2,4,1) c(1,4,2) c(2,3,3) c(2,2,5) c(3,2,2) c(3,3,1) c(3,5,3) c(2,5,4) c(4,1,1) c(3,1,4) c(4,5,2) c(5,2,3) c(4,2,4) c(4,3,5) c(4,4,3) c(5,3,2) c(5,5,1) c(5,4,4) c(1,2,1) c(1,3,4) c(3,4,5) c(1,5,5)\n",
      "SATISFIABLE\n",
      "\n",
      "Models       : 1\n",
      "Calls        : 1\n",
      "Time         : 0.005s (Solving: 0.00s 1st Model: 0.00s Unsat: 0.00s)\n",
      "CPU Time     : 0.016s\n"
     ]
    }
   ],
   "source": [
    "!clingo 0 FutoshikiSolver_extreme_5.lp"
   ]
  },
  {
   "cell_type": "code",
   "execution_count": 15,
   "id": "35d3a615-c2f2-4ef5-9fa9-fd91e05eea0c",
   "metadata": {},
   "outputs": [
    {
     "name": "stdout",
     "output_type": "stream",
     "text": [
      "Writing FutoshikiSolver_extreme_7_v1.lp\n"
     ]
    }
   ],
   "source": [
    "%%file FutoshikiSolver_extreme_7_v1.lp\n",
    "#const dimension = 7.\n",
    "\n",
    "%filled(X,Y,V) is a pre-filled cell (hint) with X the row, Y the column and V the value.\n",
    "filled(1,4,1).filled(2,6,5).filled(4,5,3).\n",
    "\n",
    "% The inequality constraints can all be written by using '<' (less than).\n",
    "% The lessThan(X1,Y1,X2,Y2) constraint checks if the value at (X1,Y1) < (X2,Y2).\n",
    "lessThan(1,1, 2,1).lessThan(1,3, 1,2).lessThan(3,5, 2,5).\n",
    "lessThan(3,2, 3,1).lessThan(3,4, 3,3).lessThan(3,4, 3,5).\n",
    "lessThan(3,1, 4,1).lessThan(4,2, 3,2).lessThan(3,3, 4,3).lessThan(4,7, 3,7).\n",
    "lessThan(5,1, 5,2).lessThan(5,2, 4,2).lessThan(5,4, 5,5).lessThan(5,5, 5,6).\n",
    "lessThan(6,5, 7,5).lessThan(7,1, 7,2).lessThan(7,2, 6,2).lessThan(7,2, 7,3).\n",
    "lessThan(7,5, 7,6).lessThan(7,3, 6,3).\n",
    "\n",
    "% The possible numbers are between 1 and the dimension of the puzzle.\n",
    "number(1..dimension).\n",
    "\n",
    "% The cells that are pre-filled (given hints) are inserted in the solution\n",
    "% c(X,Y,V) stands for the cell at location (X,Y) with value V.\n",
    "c(X,Y,V) :- filled(X,Y,V).\n",
    "\n",
    "% Latin square condition: all rows and columns must be different.\n",
    "{ c(X,Y,N):number(N) } = 1 :- number(X),number(Y).\n",
    "{ c(X,Y,N):number(X) } = 1 :- number(N),number(Y).\n",
    "{ c(X,Y,N):number(Y) } = 1 :- number(N),number(X). \n",
    "\n",
    "% Inequality condition: all '<' constraints must hold.\n",
    ":- c(X1,Y1,N1), c(X2,Y2,N2), lessThan(X1,Y1, X2,Y2), N1 >= N2.\n",
    "\n",
    "#show c/3."
   ]
  },
  {
   "cell_type": "code",
   "execution_count": 17,
   "id": "c63923f8-fe87-4f87-92ef-0ca5223d7b8d",
   "metadata": {},
   "outputs": [
    {
     "name": "stdout",
     "output_type": "stream",
     "text": [
      "clingo version 5.6.2\n",
      "Reading from FutoshikiSolver_extreme_7_v1.lp\n",
      "Solving...\n",
      "Answer: 1\n",
      "c(1,4,1) c(2,6,5) c(4,5,3) c(1,1,3) c(2,1,4) c(1,3,6) c(1,2,7) c(3,5,4) c(2,5,7) c(3,2,5) c(3,1,6) c(3,4,2) c(3,3,3) c(4,1,7) c(4,2,4) c(4,3,5) c(4,7,1) c(3,7,7) c(5,1,2) c(5,2,3) c(5,4,5) c(5,5,6) c(5,6,7) c(6,5,1) c(7,5,5) c(7,1,1) c(7,2,2) c(6,2,6) c(7,3,4) c(7,6,6) c(6,3,7) c(6,1,5) c(2,2,1) c(2,3,2) c(5,3,1) c(2,4,3) c(4,4,6) c(6,4,4) c(7,4,7) c(1,5,2) c(1,6,4) c(3,6,1) c(4,6,2) c(6,6,3) c(1,7,5) c(2,7,6) c(5,7,4) c(6,7,2) c(7,7,3)\n",
      "SATISFIABLE\n",
      "\n",
      "Models       : 1\n",
      "Calls        : 1\n",
      "Time         : 0.007s (Solving: 0.00s 1st Model: 0.00s Unsat: 0.00s)\n",
      "CPU Time     : 0.016s\n"
     ]
    }
   ],
   "source": [
    "!clingo 0 FutoshikiSolver_extreme_7_v1.lp"
   ]
  },
  {
   "cell_type": "code",
   "execution_count": 18,
   "id": "88969aa7-3df8-431f-9f2d-ec2d28cdc5d9",
   "metadata": {},
   "outputs": [
    {
     "name": "stdout",
     "output_type": "stream",
     "text": [
      "Writing FutoshikiSolver_extreme_7_v2.lp\n"
     ]
    }
   ],
   "source": [
    "%%file FutoshikiSolver_extreme_7_v2.lp\n",
    "#const dimension = 7.\n",
    "\n",
    "%filled(X,Y,V) is a pre-filled cell (hint) with X the row, Y the column and V the value.\n",
    "filled(2,6,6).filled(4,7,7).filled(7,3,5).\n",
    "\n",
    "% The inequality constraints can all be written by using '<' (less than).\n",
    "% The lessThan(X1,Y1,X2,Y2) constraint checks if the value at (X1,Y1) < (X2,Y2).\n",
    "lessThan(3,1, 2,1).lessThan(2,1, 1,1).lessThan(1,2, 2,2).lessThan(1,4, 1,3).lessThan(1,3, 2,3).lessThan(1,6, 1,7).\n",
    "lessThan(3,4, 2,4).lessThan(3,2, 4,2).lessThan(4,2, 4,1).lessThan(3,6, 4,6).lessThan(4,6, 4,5).lessThan(4,5, 4,4).\n",
    "lessThan(5,4, 5,5).lessthan(5,6, 6,6).lessThan(5,2, 6,2).lessThan(6,2, 6,1).lessThan(5,3, 6,3).\n",
    "lessThan(7,2, 7,1).lessThan(6,4, 7,4).lessThan(7,5, 7,6).\n",
    "\n",
    "% The possible numbers are between 1 and the dimension of the puzzle.\n",
    "number(1..dimension).\n",
    "\n",
    "% The cells that are pre-filled (given hints) are inserted in the solution\n",
    "% c(X,Y,V) stands for the cell at location (X,Y) with value V.\n",
    "c(X,Y,V) :- filled(X,Y,V).\n",
    "\n",
    "% Latin square condition: all rows and columns must be different.\n",
    "{ c(X,Y,N):number(N) } = 1 :- number(X),number(Y).\n",
    "{ c(X,Y,N):number(X) } = 1 :- number(N),number(Y).\n",
    "{ c(X,Y,N):number(Y) } = 1 :- number(N),number(X). \n",
    "\n",
    "% Inequality condition: all '<' constraints must hold.\n",
    ":- c(X1,Y1,N1), c(X2,Y2,N2), lessThan(X1,Y1, X2,Y2), N1 >= N2.\n",
    "\n",
    "#show c/3."
   ]
  },
  {
   "cell_type": "code",
   "execution_count": 19,
   "id": "24e4f5ff-eb82-47c6-994f-fc80dd0bdab4",
   "metadata": {},
   "outputs": [
    {
     "name": "stdout",
     "output_type": "stream",
     "text": [
      "clingo version 5.6.2\n",
      "Reading from FutoshikiSolver_extreme_7_v2.lp\n",
      "Solving...\n",
      "Answer: 1\n",
      "c(2,6,6) c(4,7,7) c(7,3,5) c(3,1,2) c(2,1,4) c(1,1,7) c(1,2,6) c(2,2,7) c(1,4,1) c(1,3,2) c(2,3,3) c(1,6,3) c(1,7,4) c(3,4,3) c(2,4,5) c(3,2,4) c(4,2,5) c(4,1,6) c(3,6,1) c(4,6,2) c(4,5,3) c(4,4,4) c(5,4,6) c(5,5,7) c(5,2,2) c(6,2,3) c(6,1,5) c(5,3,4) c(6,3,6) c(7,2,1) c(7,1,3) c(6,4,2) c(7,4,7) c(7,5,2) c(7,6,4) c(5,1,1) c(3,3,7) c(4,3,1) c(1,5,5) c(2,5,1) c(3,5,6) c(6,5,4) c(5,6,5) c(6,6,7) c(2,7,2) c(3,7,5) c(5,7,3) c(6,7,1) c(7,7,6)\n",
      "SATISFIABLE\n",
      "\n",
      "Models       : 1\n",
      "Calls        : 1\n",
      "Time         : 0.014s (Solving: 0.00s 1st Model: 0.00s Unsat: 0.00s)\n",
      "CPU Time     : 0.016s\n"
     ]
    }
   ],
   "source": [
    "!clingo 0 FutoshikiSolver_extreme_7_v2.lp"
   ]
  },
  {
   "cell_type": "code",
   "execution_count": 3,
   "id": "b23850cf-48aa-41ae-be44-e697cb2e41fc",
   "metadata": {},
   "outputs": [
    {
     "name": "stdout",
     "output_type": "stream",
     "text": [
      "Overwriting FutoshikiSolver_extreme_8.lp\n"
     ]
    }
   ],
   "source": [
    "%%file FutoshikiSolver_extreme_8.lp\n",
    "#const dimension = 8.\n",
    "\n",
    "%filled(X,Y,V) is a pre-filled cell (hint) with X the row, Y the column and V the value.\n",
    "filled(1,6,5).filled(1,8,3).filled(2,8,6).filled(3,3,5).filled(4,2,4).\n",
    "filled(4,5,1).filled(4,7,5).filled(5,5,5).filled(6,5,6).filled(7,7,7).\n",
    "\n",
    "% The inequality constraints can all be written by using '<' (less than).\n",
    "% The lessThan(X1,Y1,X2,Y2) constraint checks if the value at (X1,Y1) < (X2,Y2).\n",
    "lessThan(1,2, 1,1).lessThan(1,6, 1,7).lessThan(2,4, 2,3).lessThan(2,5, 2,4).\n",
    "lessThan(3,1, 2,1).lessThan(3,2, 3,3).lessThan(4,3, 4,2).lessThan(4,4, 4,3).\n",
    "lessThan(5,2, 4,2).lessThan(4,8, 5,8).lessThan(5,3, 6,3).lessThan(5,7, 6,7).\n",
    "lessThan(6,7, 6,8).lessThan(6,4, 6,5).lessThan(6,3, 6,2).lessThan(6,2, 7,2).\n",
    "lessThan(7,3, 6,3).lessThan(7,8, 8,8).lessThan(8,5, 8,6).\n",
    "\n",
    "% The possible numbers are between 1 and the dimension of the puzzle.\n",
    "number(1..dimension).\n",
    "\n",
    "% The cells that are pre-filled (given hints) are inserted in the solution\n",
    "% c(X,Y,V) stands for the cell at location (X,Y) with value V.\n",
    "c(X,Y,V) :- filled(X,Y,V).\n",
    "\n",
    "% Latin square condition: all rows and columns must be different.\n",
    "{ c(X,Y,N):number(N) } = 1 :- number(X),number(Y).\n",
    "{ c(X,Y,N):number(X) } = 1 :- number(N),number(Y).\n",
    "{ c(X,Y,N):number(Y) } = 1 :- number(N),number(X). \n",
    "\n",
    "% Inequality condition: all '<' constraints must hold.\n",
    ":- c(X1,Y1,N1), c(X2,Y2,N2), lessThan(X1,Y1, X2,Y2), N1 >= N2.\n",
    "\n",
    "#show c/3."
   ]
  },
  {
   "cell_type": "code",
   "execution_count": 4,
   "id": "ffbbf32a-827b-45e5-a610-ce7b06ad0c12",
   "metadata": {},
   "outputs": [
    {
     "name": "stdout",
     "output_type": "stream",
     "text": [
      "clingo version 5.6.2\n",
      "Reading from FutoshikiSolver_extreme_8.lp\n",
      "Solving...\n",
      "Answer: 1\n",
      "c(1,6,5) c(1,8,3) c(2,8,6) c(3,3,5) c(4,2,4) c(4,5,1) c(4,7,5) c(5,5,5) c(6,5,6) c(7,7,7) c(1,2,1) c(1,1,2) c(1,7,8) c(2,4,3) c(2,3,8) c(2,5,2) c(3,1,1) c(2,1,7) c(3,2,2) c(4,3,3) c(4,4,2) c(5,2,3) c(4,8,7) c(5,8,8) c(5,3,1) c(6,3,4) c(5,7,2) c(6,7,3) c(6,8,5) c(6,4,1) c(6,2,7) c(7,2,8) c(7,3,2) c(7,8,1) c(8,8,2) c(8,5,3) c(8,6,4) c(4,1,6) c(5,1,4) c(6,1,8) c(7,1,3) c(8,1,5) c(2,2,5) c(8,2,6) c(1,3,6) c(8,3,7) c(1,4,4) c(3,4,7) c(5,4,6) c(7,4,5) c(8,4,8) c(1,5,7) c(3,5,8) c(7,5,4) c(2,6,1) c(3,6,3) c(4,6,8) c(5,6,7) c(6,6,2) c(7,6,6) c(2,7,4) c(3,7,6) c(8,7,1) c(3,8,4)\n",
      "SATISFIABLE\n",
      "\n",
      "Models       : 1\n",
      "Calls        : 1\n",
      "Time         : 0.136s (Solving: 0.01s 1st Model: 0.00s Unsat: 0.01s)\n",
      "CPU Time     : 0.094s\n"
     ]
    }
   ],
   "source": [
    "!clingo 0 FutoshikiSolver_extreme_8.lp"
   ]
  },
  {
   "cell_type": "code",
   "execution_count": 1,
   "id": "06f44f76-9c9b-4836-b503-f0edcf2b94da",
   "metadata": {},
   "outputs": [
    {
     "name": "stdout",
     "output_type": "stream",
     "text": [
      "Overwriting FutoshikiSolver_extreme_9.lp\n"
     ]
    }
   ],
   "source": [
    "%%file FutoshikiSolver_extreme_9.lp\n",
    "#const dimension = 9.\n",
    "\n",
    "%filled(X,Y,V) is a pre-filled cell (hint) with X the row, Y the column and V the value.\n",
    "filled(4,4,9).filled(4,8,6).filled(5,2,8).filled(6,1,7).\n",
    "filled(6,7,4).filled(7,2,4).filled(9,3,7).filled(9,8,4).\n",
    "\n",
    "% The inequality constraints can all be written by using '<' (less than).\n",
    "% The lessThan(X1,Y1,X2,Y2) constraint checks if the value at (X1,Y1) < (X2,Y2).\n",
    "lessThan(1,3,1,2).lessThan(2,3,1,3).lessThan(2,2,2,3).lessThan(3,1,2,1).\n",
    "lessThan(3,4,2,4).lessThan(2,4,1,4).lessThan(2,6,1,6).lessThan(1,8,2,8).\n",
    "lessThan(2,8,3,8).lessThan(3,6,3,5).lessThan(3,7,4,7).lessThan(4,7,5,7).\n",
    "lessThan(5,7,6,7).lessThan(5,9,4,9).lessThan(6,9,5,9).lessThan(6,8,6,9).\n",
    "lessThan(5,8,5,7).lessThan(6,8,6,7).lessThan(7,8,6,8).lessThan(6,5,6,6).\n",
    "lessThan(5,5,5,6).lessThan(5,4,5,5).lessThan(5,3,5,4).lessThan(5,1,5,2).\n",
    "lessThan(6,3,5,3).lessThan(5,4,6,4).lessThan(6,1,7,1).lessThan(7,6,7,7).\n",
    "lessThan(7,7,8,7).lessThan(8,7,9,7).lessThan(8,9,8,8).lessThan(9,9,8,9).\n",
    "lessThan(9,5,9,6).lessThan(8,5,8,4).lessThan(8,1,9,1).lessThan(9,2,8,2).\n",
    "lessThan(8,3,9,3).lessThan(9,4,9,3).lessThan(8,4,9,4).\n",
    "\n",
    "% The possible numbers are between 1 and the dimension of the puzzle.\n",
    "number(1..dimension).\n",
    "\n",
    "% The cells that are pre-filled (given hints) are inserted in the solution\n",
    "% c(X,Y,V) stands for the cell at location (X,Y) with value V.\n",
    "c(X,Y,V) :- filled(X,Y,V).\n",
    "\n",
    "% Latin square condition: all rows and columns must be different.\n",
    "{ c(X,Y,N):number(N) } = 1 :- number(X),number(Y).\n",
    "{ c(X,Y,N):number(X) } = 1 :- number(N),number(Y).\n",
    "{ c(X,Y,N):number(Y) } = 1 :- number(N),number(X). \n",
    "\n",
    "% Inequality condition: all '<' constraints must hold.\n",
    ":- c(X1,Y1,N1), c(X2,Y2,N2), lessThan(X1,Y1, X2,Y2), N1 >= N2.\n",
    "\n",
    "#show c/3."
   ]
  },
  {
   "cell_type": "code",
   "execution_count": 2,
   "id": "54b1712f-7cd3-4c24-9a32-2bcff92785bb",
   "metadata": {},
   "outputs": [
    {
     "name": "stdout",
     "output_type": "stream",
     "text": [
      "clingo version 5.6.2\n",
      "Reading from FutoshikiSolver_extreme_9.lp\n",
      "Solving...\n",
      "Answer: 1\n",
      "c(4,4,9) c(4,8,6) c(5,2,8) c(6,1,7) c(6,7,4) c(7,2,4) c(9,3,7) c(9,8,4) c(1,3,4) c(1,2,6) c(2,3,3) c(2,2,2) c(3,1,5) c(2,1,6) c(3,4,2) c(2,4,4) c(1,4,7) c(2,6,1) c(1,6,2) c(1,8,5) c(2,8,7) c(3,8,8) c(3,6,4) c(3,5,6) c(3,7,1) c(4,7,2) c(5,7,3) c(5,9,6) c(4,9,8) c(6,9,5) c(6,8,3) c(5,8,1) c(7,8,2) c(6,5,2) c(6,6,6) c(5,5,7) c(5,6,9) c(5,4,5) c(5,3,2) c(5,1,4) c(6,3,1) c(6,4,8) c(7,1,9) c(7,6,3) c(7,7,6) c(8,7,7) c(9,7,9) c(8,9,4) c(8,8,9) c(9,9,2) c(9,5,3) c(9,6,5) c(8,5,1) c(8,4,3) c(8,1,2) c(9,1,8) c(9,2,1) c(8,2,5) c(8,3,6) c(9,4,6) c(1,1,3) c(4,1,1) c(3,2,7) c(4,2,3) c(6,2,9) c(3,3,9) c(4,3,5) c(7,3,8) c(7,4,1) c(1,5,9) c(2,5,8) c(4,5,4) c(7,5,5) c(4,6,7) c(8,6,8) c(1,7,8) c(2,7,5) c(1,9,1) c(2,9,9) c(3,9,3) c(7,9,7)\n",
      "SATISFIABLE\n",
      "\n",
      "Models       : 1\n",
      "Calls        : 1\n",
      "Time         : 0.022s (Solving: 0.01s 1st Model: 0.01s Unsat: 0.00s)\n",
      "CPU Time     : 0.031s\n"
     ]
    }
   ],
   "source": [
    "!clingo 0 FutoshikiSolver_extreme_9.lp"
   ]
  },
  {
   "cell_type": "code",
   "execution_count": null,
   "id": "b175769b-4378-46f6-afab-da929e45b617",
   "metadata": {},
   "outputs": [],
   "source": []
  }
 ],
 "metadata": {
  "kernelspec": {
   "display_name": "py",
   "language": "python",
   "name": "myenv"
  },
  "language_info": {
   "codemirror_mode": {
    "name": "ipython",
    "version": 3
   },
   "file_extension": ".py",
   "mimetype": "text/x-python",
   "name": "python",
   "nbconvert_exporter": "python",
   "pygments_lexer": "ipython3",
   "version": "3.11.3"
  }
 },
 "nbformat": 4,
 "nbformat_minor": 5
}
